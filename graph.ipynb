{
 "cells": [
  {
   "cell_type": "code",
   "execution_count": 7,
   "metadata": {
    "collapsed": true,
    "pycharm": {
     "name": "#%%\n"
    }
   },
   "outputs": [
    {
     "name": "stdout",
     "output_type": "stream",
     "text": [
      "Success\n",
      "[['gm ziegler', 'kh hofmann', 'p erdos', 't pettke', 'we halter', 'nn rahbari', 'k thorlund', 'n mollberg', 'w meier', 'xr duan', 'w stricker', 'b bankier', 'm bach', 's mangard', 'n hergovich', 'hg eichler', 'e oswald', 'd antolovic', 'm koch', 'p blasberg', 'g handwerker', 'j treasure', 'w kaye', 's kasper', 'r luckerath', 'e triesch', 'm dold', 'r lanzenberger', 'k kranzer', 'a eckhardt', 'g knoll', 'ac kierner', 'm burian', 's forster', 'c heinrich', 'b juttler', 'e pilgerstorfer', 'a haller', 'u rieder', 'sc blanchard', 'z tuza', 'p stoll', 'm kindler', 'f schneider', 'a dinse', 'm ulbrich', 'gr johnson', 'at bell', 'r sadanandan', 'm stohr', 'w zitterl', 'c urban', 'l linzmayer', 'u demal', 's brandt', 'j feulner', 's schaffer', 'r kischel', 'p kufer', 't longerich', 'bk koo', 'n delhomme', 'jd webster', 'r hadef', 'u stopper', 'h ax', 'n lehn', 'l deml', 'm rehli', 'u meier', 'p kutne', 'bk kapadia', 'i boxx', 'c heeger', 'r gordon', 'b bohm', 'h van der holst', 'jr lukas', 'r blumer', 'mm nothen', 'ep bennett', 'y maeda', 'k fauster', 'm hartl', 't santner', 'b noll', 'u hinz', 's seidel', 'm ossege', 'w arzt', 'g tulzer', 'r mair', 's dominikus', 'm feldhofer', 'r eher', 's fruehwald', 'p frottier', 't blacha', 'm di domenico', 'p gerlinger', 'h singer', 'c kellner', 'h lanig', 'g sachs', 'e bruckmuller', 'b winklbaur', 'hh grotheer', 'j steger', 'k bister', 'm buttner', 'm denk', 'h heinzl', 'rc hood', '\"k ngoran\"', 'g hardarson', 'bs pandit', 'j heinze', 't zornek', 't monz', 'h pokorny', 'kl barth', 'm thierley', 's greisenegger', 'f radwan', 'h sticht', 'g lenz', 'kp geigle', 't kretschmer', 'w dersch', 'd reichert', 'h schwall', 't panne', 'v kruger', 'i zelenka', 'g riedl', 'd prayer', 'w prause', 'p anderer', 'm mandl', 'em ivanova', 'be noll', 'ta dowling'], ['m aigner', 'kh hofmann', 'p erdos', 'm las vergnas', 'b sturmfels', 'n white', 'j matousek', 'a bjorner', 'jc lagarias', 'rt zivaljevic', 'f pfender', 'ph edelman', 'n amenta', 'v welker', 'r weismantel', 'as schulz', 'c ceballos', 'f santos', 'm joswig', 'pvm blagojevic', 'b matschke', 'j rambau', 'c haase', 'r urbaniak', 'j pfeifle', 'f frick', 'm hachimori', 'ai bobenko', 'jm sullivan', 'v reiner', 'rt firla', 'b benedetti', 'em feichtner', 'ne mnev', 'b nill', 'v kaibel', 'r sanyal', 'a werner', 'g kalai', 'd eppstein', 'g kuperberg', 'w luck', 'j liu', 'le trotter', 'di dais', 'm henk', 'be sagan', 'yn yeh', 'i barany', 'a paffenholz', 'a hoppner', 'b gonska', 'j sjostrand', 'h trappmann'], ['g gierz', 'k keimel', 'jd lawson', 'm mislove', 'm aigner', 'gm ziegler', 'p erdos', 'sa morris', 'ps mostert', 'j hilgert', 'm heininger', 'oh utrera', 'g duvert', 'b acke', 'j dauns', 'jf berglund', 'a glindemann', 't henning', 'g theyel', 't preibisch', 'y balega', 'g weigelt', 'c perrier', 'm benisty', 'a stralka', 's kraus', 'km menten', 'd schertl', 'mw mislove', 'jp berger', 'm scholz', 'ii balega', 'yy balega', 'ja docobo', 'o chesneau', 't driebe', 'rg petrov', 'k ohnaka', 'f millour', 'ww comfort', 'g daigne', 'r hofmann', 'mtd wingate', 'a chelli', 't beckert', 'wj duschl', 'c benoist', 'e thiebaut', 'p stee', 'c pinte', 'f massi', 'jc gonzalez', 'u graser', 'vp grinin', 'jh groh', 'u zwicker', 'h greiner', 'm reithinger', 'm eberhardt', 't blocker', 'f malbet', 'a richichi', 'w babel', 'c leinert', 'j bergeat', 's kanaan', 'r petrov', 'w seggewiss', 'e pehlemann', 'm kenworthy', 'l close', 'w rottger', 'js pym', 'ja eisner', 'jj fortney', 'a mukherjea'], ['r graham', 'j nesetril', 'm aigner', 'gm ziegler', 'kh hofmann', 'al rubin', 'h taylor', 'a renyi', 'g szekeres', 'p turan', 'l lovasz', 'ah stone', 'j spencer', 't gallai', 'a mate', 'a hajnal', 'p rado', 'r rado', 'er canfield', 'c pomerance', 'p frankl', 'z furedi', 'rl graham', 'v chvatal', 'aw goodman', 'l posa', 'a ginzburg', 'a ziv', 'b bollobas', 'a dvoretzky', 'rc herndon', 'l babai', 'sm selkow', 'l moser', 'm simonovits', 'e szemeredi', 'pm gruber', 'j hammer', 'j lehner', 'ah copeland', 'm kac', 'sb haley', 'jl selfridge', 'kl chung', 'v rodl', 'rk guy', 'a simmons', 'eg straus', 'da darling', 'a wintner', 'jw moon', 'vt sos', 'e schmutz', 'sj taylor', 's kakutani', 'e niebur', 'j suranyi'], [], [], [], [], [], [], [], [], [], [], [], [], [], [], [], [], [], [], [], [], [], [], [], [], [], [], [], [], [], [], [], [], [], [], [], [], [], [], [], [], [], [], [], [], [], [], [], [], [], [], [], [], [], [], [], [], [], [], [], [], [], [], [], [], [], [], [], [], [], [], [], [], [], [], [], [], [], [], [], [], [], [], [], [], [], [], [], [], [], [], [], [], [], [], [], [], [], [], [], [], [], [], [], [], [], [], [], [], [], [], [], [], [], [], [], [], [], [], [], [], [], [], [], [], [], [], [], [], [], [], [], [], [], [], [], [], [], [], [], [], [], [], [], [], [], [], [], [], [], [], [], [], [], [], [], [], [], [], [], [], [], [], [], [], [], [], [], [], [], [], [], [], [], [], [], [], [], [], [], [], [], [], [], [], [], [], [], [], [], [], [], [], [], [], [], [], [], [], [], [], [], [], [], [], [], [], [], [], [], [], [], [], [], [], [], [], [], [], [], [], [], [], [], [], [], [], [], [], [], [], [], [], [], [], [], [], [], [], [], [], [], [], [], [], [], [], [], [], [], [], [], [], [], [], [], [], [], [], [], [], [], [], [], ['h feddersen', 'md francis', 'g russell', 'h fleisch', 'j cohen', 'a pertsemlidis', 'ik kotowski', 'h haken', 'd scully', 'j kremer', 'mm meade'], ['p hell', 's poljak', 'e milkova', 'h nesetrilova', 'po de mendez', 'v rodl', 'c tardif', 'x zhu', 'ov borodin', 'av kostochka', 'a raspaud', 'm bodirsky', 'j kratochvil', 'pj cameron', 'e sopena', 'a pultr', 'dr wood', 'a lubiw', 'v muller', 'j pelant', 'nc wormald', 'j hubicka', 'a gyarfas', 'j lehel', 'rh schelp', 'a galluccio', 'r ganian', 'p hlineny', 'j obdrzalek', 'v jungic', 'j licht', 'm mahdian', 'e balas', 'v chvatal', 'j foniok', 'rl graham', 's butler', 'o zyka', 'r radoicic', 'p erdos', 'p pancoska', 'r owczarzy', 'pm vallone'], [], [], [], [], [], [], [], [], [], [], [], [], [], [], [], [], [], [], [], [], [], [], [], [], [], [], [], [], [], [], [], [], [], [], [], [], [], [], [], [], [], [], [], [], [], [], [], [], [], [], [], [], [], [], [], [], [], [], [], [], [], [], [], [], [], [], [], [], [], [], [], [], [], [], [], [], [], [], [], [], [], [], [], [], [], [], [], [], [], [], [], [], [], [], [], [], [], [], [], [], [], []]\n",
      "{'m aigner': 0, 'gm ziegler': 1, 'kh hofmann': 2, 'p erdos': 3, 't pettke': 4, 'we halter': 5, 'nn rahbari': 6, 'k thorlund': 7, 'n mollberg': 8, 'w meier': 9, 'xr duan': 10, 'w stricker': 11, 'b bankier': 12, 'm bach': 13, 's mangard': 14, 'n hergovich': 15, 'hg eichler': 16, 'e oswald': 17, 'd antolovic': 18, 'm koch': 19, 'p blasberg': 20, 'g handwerker': 21, 'j treasure': 22, 'w kaye': 23, 's kasper': 24, 'r luckerath': 25, 'e triesch': 26, 'm dold': 27, 'r lanzenberger': 28, 'k kranzer': 29, 'a eckhardt': 30, 'g knoll': 31, 'ac kierner': 32, 'm burian': 33, 's forster': 34, 'c heinrich': 35, 'b juttler': 36, 'e pilgerstorfer': 37, 'a haller': 38, 'u rieder': 39, 'sc blanchard': 40, 'z tuza': 41, 'p stoll': 42, 'm kindler': 43, 'f schneider': 44, 'a dinse': 45, 'm ulbrich': 46, 'gr johnson': 47, 'at bell': 48, 'r sadanandan': 49, 'm stohr': 50, 'w zitterl': 51, 'c urban': 52, 'l linzmayer': 53, 'u demal': 54, 's brandt': 55, 'j feulner': 56, 's schaffer': 57, 'r kischel': 58, 'p kufer': 59, 't longerich': 60, 'bk koo': 61, 'n delhomme': 62, 'jd webster': 63, 'r hadef': 64, 'u stopper': 65, 'h ax': 66, 'n lehn': 67, 'l deml': 68, 'm rehli': 69, 'u meier': 70, 'p kutne': 71, 'bk kapadia': 72, 'i boxx': 73, 'c heeger': 74, 'r gordon': 75, 'b bohm': 76, 'h van der holst': 77, 'jr lukas': 78, 'r blumer': 79, 'mm nothen': 80, 'ep bennett': 81, 'y maeda': 82, 'k fauster': 83, 'm hartl': 84, 't santner': 85, 'b noll': 86, 'u hinz': 87, 's seidel': 88, 'm ossege': 89, 'w arzt': 90, 'g tulzer': 91, 'r mair': 92, 's dominikus': 93, 'm feldhofer': 94, 'r eher': 95, 's fruehwald': 96, 'p frottier': 97, 't blacha': 98, 'm di domenico': 99, 'p gerlinger': 100, 'h singer': 101, 'c kellner': 102, 'h lanig': 103, 'g sachs': 104, 'e bruckmuller': 105, 'b winklbaur': 106, 'hh grotheer': 107, 'j steger': 108, 'k bister': 109, 'm buttner': 110, 'm denk': 111, 'h heinzl': 112, 'rc hood': 113, '\"k ngoran\"': 114, 'g hardarson': 115, 'bs pandit': 116, 'j heinze': 117, 't zornek': 118, 't monz': 119, 'h pokorny': 120, 'kl barth': 121, 'm thierley': 122, 's greisenegger': 123, 'f radwan': 124, 'h sticht': 125, 'g lenz': 126, 'kp geigle': 127, 't kretschmer': 128, 'w dersch': 129, 'd reichert': 130, 'h schwall': 131, 't panne': 132, 'v kruger': 133, 'i zelenka': 134, 'g riedl': 135, 'd prayer': 136, 'w prause': 137, 'p anderer': 138, 'm mandl': 139, 'em ivanova': 140, 'be noll': 141, 'ta dowling': 142, 'm las vergnas': 143, 'b sturmfels': 144, 'n white': 145, 'j matousek': 146, 'a bjorner': 147, 'jc lagarias': 148, 'rt zivaljevic': 149, 'f pfender': 150, 'ph edelman': 151, 'n amenta': 152, 'v welker': 153, 'r weismantel': 154, 'as schulz': 155, 'c ceballos': 156, 'f santos': 157, 'm joswig': 158, 'pvm blagojevic': 159, 'b matschke': 160, 'j rambau': 161, 'c haase': 162, 'r urbaniak': 163, 'j pfeifle': 164, 'f frick': 165, 'm hachimori': 166, 'ai bobenko': 167, 'jm sullivan': 168, 'v reiner': 169, 'rt firla': 170, 'b benedetti': 171, 'em feichtner': 172, 'ne mnev': 173, 'b nill': 174, 'v kaibel': 175, 'r sanyal': 176, 'a werner': 177, 'g kalai': 178, 'd eppstein': 179, 'g kuperberg': 180, 'w luck': 181, 'j liu': 182, 'le trotter': 183, 'di dais': 184, 'm henk': 185, 'be sagan': 186, 'yn yeh': 187, 'i barany': 188, 'a paffenholz': 189, 'a hoppner': 190, 'b gonska': 191, 'j sjostrand': 192, 'h trappmann': 193, 'g gierz': 194, 'k keimel': 195, 'jd lawson': 196, 'm mislove': 197, 'sa morris': 198, 'ps mostert': 199, 'j hilgert': 200, 'm heininger': 201, 'oh utrera': 202, 'g duvert': 203, 'b acke': 204, 'j dauns': 205, 'jf berglund': 206, 'a glindemann': 207, 't henning': 208, 'g theyel': 209, 't preibisch': 210, 'y balega': 211, 'g weigelt': 212, 'c perrier': 213, 'm benisty': 214, 'a stralka': 215, 's kraus': 216, 'km menten': 217, 'd schertl': 218, 'mw mislove': 219, 'jp berger': 220, 'm scholz': 221, 'ii balega': 222, 'yy balega': 223, 'ja docobo': 224, 'o chesneau': 225, 't driebe': 226, 'rg petrov': 227, 'k ohnaka': 228, 'f millour': 229, 'ww comfort': 230, 'g daigne': 231, 'r hofmann': 232, 'mtd wingate': 233, 'a chelli': 234, 't beckert': 235, 'wj duschl': 236, 'c benoist': 237, 'e thiebaut': 238, 'p stee': 239, 'c pinte': 240, 'f massi': 241, 'jc gonzalez': 242, 'u graser': 243, 'vp grinin': 244, 'jh groh': 245, 'u zwicker': 246, 'h greiner': 247, 'm reithinger': 248, 'm eberhardt': 249, 't blocker': 250, 'f malbet': 251, 'a richichi': 252, 'w babel': 253, 'c leinert': 254, 'j bergeat': 255, 's kanaan': 256, 'r petrov': 257, 'w seggewiss': 258, 'e pehlemann': 259, 'm kenworthy': 260, 'l close': 261, 'w rottger': 262, 'js pym': 263, 'ja eisner': 264, 'jj fortney': 265, 'a mukherjea': 266, 'r graham': 267, 'j nesetril': 268, 'al rubin': 269, 'h taylor': 270, 'a renyi': 271, 'g szekeres': 272, 'p turan': 273, 'l lovasz': 274, 'ah stone': 275, 'j spencer': 276, 't gallai': 277, 'a mate': 278, 'a hajnal': 279, 'p rado': 280, 'r rado': 281, 'er canfield': 282, 'c pomerance': 283, 'p frankl': 284, 'z furedi': 285, 'rl graham': 286, 'v chvatal': 287, 'aw goodman': 288, 'l posa': 289, 'a ginzburg': 290, 'a ziv': 291, 'b bollobas': 292, 'a dvoretzky': 293, 'rc herndon': 294, 'l babai': 295, 'sm selkow': 296, 'l moser': 297, 'm simonovits': 298, 'e szemeredi': 299, 'pm gruber': 300, 'j hammer': 301, 'j lehner': 302, 'ah copeland': 303, 'm kac': 304, 'sb haley': 305, 'jl selfridge': 306, 'kl chung': 307, 'v rodl': 308, 'rk guy': 309, 'a simmons': 310, 'eg straus': 311, 'da darling': 312, 'a wintner': 313, 'jw moon': 314, 'vt sos': 315, 'e schmutz': 316, 'sj taylor': 317, 's kakutani': 318, 'e niebur': 319, 'j suranyi': 320, 'h feddersen': 321, 'md francis': 322, 'g russell': 323, 'h fleisch': 324, 'j cohen': 325, 'a pertsemlidis': 326, 'ik kotowski': 327, 'h haken': 328, 'd scully': 329, 'j kremer': 330, 'mm meade': 331, 'p hell': 332, 's poljak': 333, 'e milkova': 334, 'h nesetrilova': 335, 'po de mendez': 336, 'c tardif': 337, 'x zhu': 338, 'ov borodin': 339, 'av kostochka': 340, 'a raspaud': 341, 'm bodirsky': 342, 'j kratochvil': 343, 'pj cameron': 344, 'e sopena': 345, 'a pultr': 346, 'dr wood': 347, 'a lubiw': 348, 'v muller': 349, 'j pelant': 350, 'nc wormald': 351, 'j hubicka': 352, 'a gyarfas': 353, 'j lehel': 354, 'rh schelp': 355, 'a galluccio': 356, 'r ganian': 357, 'p hlineny': 358, 'j obdrzalek': 359, 'v jungic': 360, 'j licht': 361, 'm mahdian': 362, 'e balas': 363, 'j foniok': 364, 's butler': 365, 'o zyka': 366, 'r radoicic': 367, 'p pancoska': 368, 'r owczarzy': 369, 'pm vallone': 370}\n",
      "['m aigner']\n",
      "[['m aigner', 'p erdos', 'al rubin'], ['m aigner', 'p erdos', 'h taylor'], ['m aigner', 'p erdos', 'a renyi'], ['m aigner', 'p erdos', 'g szekeres'], ['m aigner', 'p erdos', 'p turan'], ['m aigner', 'p erdos', 'l lovasz'], ['m aigner', 'p erdos', 'ah stone'], ['m aigner', 'p erdos', 'j spencer'], ['m aigner', 'p erdos', 't gallai'], ['m aigner', 'p erdos', 'a mate'], ['m aigner', 'p erdos', 'a hajnal'], ['m aigner', 'p erdos', 'p rado'], ['m aigner', 'p erdos', 'r rado'], ['m aigner', 'p erdos', 'er canfield'], ['m aigner', 'p erdos', 'c pomerance'], ['m aigner', 'p erdos', 'p frankl'], ['m aigner', 'p erdos', 'z furedi'], ['m aigner', 'p erdos', 'rl graham'], ['m aigner', 'p erdos', 'v chvatal'], ['m aigner', 'p erdos', 'aw goodman'], ['m aigner', 'p erdos', 'l posa'], ['m aigner', 'p erdos', 'a ginzburg'], ['m aigner', 'p erdos', 'a ziv'], ['m aigner', 'p erdos', 'b bollobas'], ['m aigner', 'p erdos', 'a dvoretzky'], ['m aigner', 'p erdos', 'rc herndon'], ['m aigner', 'p erdos', 'l babai'], ['m aigner', 'p erdos', 'sm selkow'], ['m aigner', 'p erdos', 'l moser'], ['m aigner', 'p erdos', 'm simonovits'], ['m aigner', 'p erdos', 'e szemeredi'], ['m aigner', 'p erdos', 'pm gruber'], ['m aigner', 'p erdos', 'j hammer'], ['m aigner', 'p erdos', 'j lehner'], ['m aigner', 'p erdos', 'ah copeland'], ['m aigner', 'p erdos', 'm kac'], ['m aigner', 'p erdos', 'sb haley'], ['m aigner', 'p erdos', 'jl selfridge'], ['m aigner', 'p erdos', 'kl chung'], ['m aigner', 'p erdos', 'v rodl'], ['m aigner', 'p erdos', 'rk guy'], ['m aigner', 'p erdos', 'a simmons'], ['m aigner', 'p erdos', 'eg straus'], ['m aigner', 'p erdos', 'da darling'], ['m aigner', 'p erdos', 'a wintner'], ['m aigner', 'p erdos', 'jw moon'], ['m aigner', 'p erdos', 'vt sos'], ['m aigner', 'p erdos', 'e schmutz'], ['m aigner', 'p erdos', 'sj taylor'], ['m aigner', 'p erdos', 's kakutani'], ['m aigner', 'p erdos', 'e niebur'], ['m aigner', 'p erdos', 'j suranyi'], ['m aigner', 'p erdos', 'r graham', 'h feddersen'], ['m aigner', 'p erdos', 'r graham', 'md francis'], ['m aigner', 'p erdos', 'r graham', 'g russell'], ['m aigner', 'p erdos', 'r graham', 'h fleisch'], ['m aigner', 'p erdos', 'r graham', 'j cohen'], ['m aigner', 'p erdos', 'r graham', 'a pertsemlidis'], ['m aigner', 'p erdos', 'r graham', 'ik kotowski'], ['m aigner', 'p erdos', 'r graham', 'h haken'], ['m aigner', 'p erdos', 'r graham', 'd scully'], ['m aigner', 'p erdos', 'r graham', 'j kremer'], ['m aigner', 'p erdos', 'r graham', 'mm meade'], ['m aigner', 'p erdos', 'j nesetril', 'p hell']]\n",
      "(3, ['m aigner', 'p erdos', 'j nesetril', 'p hell'])\n"
     ]
    }
   ],
   "source": [
    "import sqlite3\n",
    "\n",
    "\n",
    "conn = sqlite3.connect('db_author.db')\n",
    "print('Success')\n",
    "\n",
    "gr = []\n",
    "level = {}\n",
    "tops = {}\n",
    "top = []\n",
    "for_tops = 1\n",
    "\n",
    "name = \"m aigner\"\n",
    "find = 'p hell'\n",
    "level[name] = -1\n",
    "tops[name] = 0\n",
    "top.append(name)\n",
    "\n",
    "def add(name,for_tops):\n",
    "    flag = 0\n",
    "    cursor = conn.execute('SELECT Coauthor FROM AUTHOR WHERE Author = \"'+name+'\"')\n",
    "    for row in cursor:\n",
    "        flag = 1\n",
    "        coat = row[0].split(', ')\n",
    "        for i in range(len(coat)):\n",
    "            coat[i] = coat[i].replace(\"'\", '')\n",
    "        gr.append(coat)\n",
    "        for i in coat:\n",
    "            if i not in level.keys():\n",
    "                level[i] = -1\n",
    "                tops[i] = for_tops\n",
    "                top.append(i)\n",
    "                for_tops += 1\n",
    "    if flag is 0:\n",
    "        gr.append([])\n",
    "    return for_tops\n",
    "    #print(at, coat[3])\n",
    "\n",
    "\n",
    "while top:\n",
    "    j = top.pop(0)\n",
    "    if j[0] is '\"':\n",
    "        j = j[1:-1]\n",
    "    for_tops = add(j, for_tops)\n",
    "print(gr)\n",
    "print(tops)\n",
    "\n",
    "def bfs(s):\n",
    "    level[s] = 0\n",
    "\n",
    "# уровень начальной вершины\n",
    "    queue = [s]\n",
    "    qq = [[s]]\n",
    "    print(queue)\n",
    " # добавляем начальную вершину в очередь\n",
    "    while queue:\n",
    " # пока там что-то есть\n",
    "        v = queue.pop(0)\n",
    "        way = qq.pop(0)\n",
    "        #print(v)\n",
    " # извлекаем вершину\n",
    "        #print(adj[tops[v]])\n",
    "        for w in gr[tops[v]]:\n",
    "            #print(w)\n",
    "# запускаем обход из вершины v\n",
    "            if level.get(w) == -1:\n",
    "# проверка на посещенность\n",
    "                queue.append(w)\n",
    "# добавление вершины в очередь\n",
    "                level[w] = level[v] + 1\n",
    "                #print(queue)\n",
    "                qq.append(way + [w])\n",
    "            if w == find:\n",
    "                return level[w], qq[-1]\n",
    "\n",
    "# подсчитываем уровень вершины\n",
    "\n",
    "\n",
    "if level.get(name) == -1:\n",
    "    print(bfs(name))\n",
    "\n",
    "\n",
    "\n"
   ]
  },
  {
   "cell_type": "code",
   "execution_count": null,
   "outputs": [],
   "source": [
    "p#author { color: #7a7c7f;\n",
    "    font-size: 20px;\n",
    "    font-family: \"Libre Baskerville\", serif;\n",
    "    line-height: 20px;\n",
    "    text-shadow: 0 1px 1px #fff;\n",
    "    padding-top: 10px;\n",
    "    left: 1%;\n",
    "    top: 1%;\n",
    "    width: 300px;}\n",
    "\n",
    "input#author {\n",
    "    top: 10%;\n",
    "    left: 1%;\n",
    "    width: 300px;\n",
    "}\n",
    "\n",
    "p#coauthor { color: #7a7c7f;\n",
    "    font-size: 20px;\n",
    "    font-family: \"Libre Baskerville\", serif;\n",
    "    line-height: 20px;\n",
    "    text-shadow: 0 1px 1px #fff;\n",
    "    padding-top: 10px;\n",
    "    left: 15%;\n",
    "    top: 1%;\n",
    "    width: 300px;\n",
    "}\n",
    "\n",
    "input#coauthor {\n",
    "    top: 10%;\n",
    "    left: 15%;\n",
    "    width: 300px;\n",
    "}\n"
   ],
   "metadata": {
    "collapsed": false,
    "pycharm": {
     "name": "#%%\n"
    }
   }
  }
 ],
 "metadata": {
  "kernelspec": {
   "display_name": "Python 3",
   "language": "python",
   "name": "python3"
  },
  "language_info": {
   "codemirror_mode": {
    "name": "ipython",
    "version": 2
   },
   "file_extension": ".py",
   "mimetype": "text/x-python",
   "name": "python",
   "nbconvert_exporter": "python",
   "pygments_lexer": "ipython2",
   "version": "2.7.6"
  }
 },
 "nbformat": 4,
 "nbformat_minor": 0
}